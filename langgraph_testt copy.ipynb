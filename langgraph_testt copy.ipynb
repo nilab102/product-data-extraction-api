{
  "cells": [
    {
      "cell_type": "code",
      "execution_count": 13,
      "metadata": {
        "colab": {
          "base_uri": "https://localhost:8080/"
        },
        "id": "x_GsaH3Z_VnE",
        "outputId": "901b13f5-913b-4426-e496-402ad8ff52a2"
      },
      "outputs": [
        {
          "name": "stdout",
          "output_type": "stream",
          "text": [
            "Collecting langgraph\n",
            "  Downloading langgraph-0.3.5-py3-none-any.whl.metadata (17 kB)\n",
            "Requirement already satisfied: langchain-groq in c:\\users\\nilab\\anaconda3\\envs\\test_esap_marged\\lib\\site-packages (0.2.4)\n",
            "Requirement already satisfied: duckduckgo-search in c:\\users\\nilab\\anaconda3\\envs\\test_esap_marged\\lib\\site-packages (7.5.0)\n",
            "Requirement already satisfied: langchain-core<0.4,>=0.1 in c:\\users\\nilab\\anaconda3\\envs\\test_esap_marged\\lib\\site-packages (from langgraph) (0.3.41)\n",
            "Collecting langgraph-checkpoint<3.0.0,>=2.0.10 (from langgraph)\n",
            "  Downloading langgraph_checkpoint-2.0.16-py3-none-any.whl.metadata (4.6 kB)\n",
            "Collecting langgraph-prebuilt<0.2,>=0.1.1 (from langgraph)\n",
            "  Downloading langgraph_prebuilt-0.1.1-py3-none-any.whl.metadata (5.0 kB)\n",
            "Collecting langgraph-sdk<0.2.0,>=0.1.42 (from langgraph)\n",
            "  Downloading langgraph_sdk-0.1.53-py3-none-any.whl.metadata (1.8 kB)\n",
            "Requirement already satisfied: groq<1,>=0.4.1 in c:\\users\\nilab\\anaconda3\\envs\\test_esap_marged\\lib\\site-packages (from langchain-groq) (0.16.0)\n",
            "Requirement already satisfied: click>=8.1.8 in c:\\users\\nilab\\anaconda3\\envs\\test_esap_marged\\lib\\site-packages (from duckduckgo-search) (8.1.8)\n",
            "Requirement already satisfied: primp>=0.14.0 in c:\\users\\nilab\\anaconda3\\envs\\test_esap_marged\\lib\\site-packages (from duckduckgo-search) (0.14.0)\n",
            "Requirement already satisfied: lxml>=5.3.0 in c:\\users\\nilab\\anaconda3\\envs\\test_esap_marged\\lib\\site-packages (from duckduckgo-search) (5.3.0)\n",
            "Requirement already satisfied: colorama in c:\\users\\nilab\\anaconda3\\envs\\test_esap_marged\\lib\\site-packages (from click>=8.1.8->duckduckgo-search) (0.4.6)\n",
            "Requirement already satisfied: anyio<5,>=3.5.0 in c:\\users\\nilab\\anaconda3\\envs\\test_esap_marged\\lib\\site-packages (from groq<1,>=0.4.1->langchain-groq) (4.8.0)\n",
            "Requirement already satisfied: distro<2,>=1.7.0 in c:\\users\\nilab\\anaconda3\\envs\\test_esap_marged\\lib\\site-packages (from groq<1,>=0.4.1->langchain-groq) (1.9.0)\n",
            "Requirement already satisfied: httpx<1,>=0.23.0 in c:\\users\\nilab\\anaconda3\\envs\\test_esap_marged\\lib\\site-packages (from groq<1,>=0.4.1->langchain-groq) (0.28.1)\n",
            "Requirement already satisfied: pydantic<3,>=1.9.0 in c:\\users\\nilab\\anaconda3\\envs\\test_esap_marged\\lib\\site-packages (from groq<1,>=0.4.1->langchain-groq) (2.10.6)\n",
            "Requirement already satisfied: sniffio in c:\\users\\nilab\\anaconda3\\envs\\test_esap_marged\\lib\\site-packages (from groq<1,>=0.4.1->langchain-groq) (1.3.1)\n",
            "Requirement already satisfied: typing-extensions<5,>=4.10 in c:\\users\\nilab\\anaconda3\\envs\\test_esap_marged\\lib\\site-packages (from groq<1,>=0.4.1->langchain-groq) (4.12.2)\n",
            "Requirement already satisfied: langsmith<0.4,>=0.1.125 in c:\\users\\nilab\\anaconda3\\envs\\test_esap_marged\\lib\\site-packages (from langchain-core<0.4,>=0.1->langgraph) (0.3.4)\n",
            "Requirement already satisfied: tenacity!=8.4.0,<10.0.0,>=8.1.0 in c:\\users\\nilab\\anaconda3\\envs\\test_esap_marged\\lib\\site-packages (from langchain-core<0.4,>=0.1->langgraph) (9.0.0)\n",
            "Requirement already satisfied: jsonpatch<2.0,>=1.33 in c:\\users\\nilab\\anaconda3\\envs\\test_esap_marged\\lib\\site-packages (from langchain-core<0.4,>=0.1->langgraph) (1.33)\n",
            "Requirement already satisfied: PyYAML>=5.3 in c:\\users\\nilab\\anaconda3\\envs\\test_esap_marged\\lib\\site-packages (from langchain-core<0.4,>=0.1->langgraph) (6.0.2)\n",
            "Requirement already satisfied: packaging<25,>=23.2 in c:\\users\\nilab\\anaconda3\\envs\\test_esap_marged\\lib\\site-packages (from langchain-core<0.4,>=0.1->langgraph) (24.2)\n",
            "Requirement already satisfied: msgpack<2.0.0,>=1.1.0 in c:\\users\\nilab\\anaconda3\\envs\\test_esap_marged\\lib\\site-packages (from langgraph-checkpoint<3.0.0,>=2.0.10->langgraph) (1.1.0)\n",
            "Requirement already satisfied: orjson>=3.10.1 in c:\\users\\nilab\\anaconda3\\envs\\test_esap_marged\\lib\\site-packages (from langgraph-sdk<0.2.0,>=0.1.42->langgraph) (3.10.15)\n",
            "Requirement already satisfied: idna>=2.8 in c:\\users\\nilab\\anaconda3\\envs\\test_esap_marged\\lib\\site-packages (from anyio<5,>=3.5.0->groq<1,>=0.4.1->langchain-groq) (3.10)\n",
            "Requirement already satisfied: certifi in c:\\users\\nilab\\anaconda3\\envs\\test_esap_marged\\lib\\site-packages (from httpx<1,>=0.23.0->groq<1,>=0.4.1->langchain-groq) (2025.1.31)\n",
            "Requirement already satisfied: httpcore==1.* in c:\\users\\nilab\\anaconda3\\envs\\test_esap_marged\\lib\\site-packages (from httpx<1,>=0.23.0->groq<1,>=0.4.1->langchain-groq) (1.0.7)\n",
            "Requirement already satisfied: h11<0.15,>=0.13 in c:\\users\\nilab\\anaconda3\\envs\\test_esap_marged\\lib\\site-packages (from httpcore==1.*->httpx<1,>=0.23.0->groq<1,>=0.4.1->langchain-groq) (0.14.0)\n",
            "Requirement already satisfied: jsonpointer>=1.9 in c:\\users\\nilab\\anaconda3\\envs\\test_esap_marged\\lib\\site-packages (from jsonpatch<2.0,>=1.33->langchain-core<0.4,>=0.1->langgraph) (3.0.0)\n",
            "Requirement already satisfied: requests<3,>=2 in c:\\users\\nilab\\anaconda3\\envs\\test_esap_marged\\lib\\site-packages (from langsmith<0.4,>=0.1.125->langchain-core<0.4,>=0.1->langgraph) (2.32.3)\n",
            "Requirement already satisfied: requests-toolbelt<2.0.0,>=1.0.0 in c:\\users\\nilab\\anaconda3\\envs\\test_esap_marged\\lib\\site-packages (from langsmith<0.4,>=0.1.125->langchain-core<0.4,>=0.1->langgraph) (1.0.0)\n",
            "Requirement already satisfied: zstandard<0.24.0,>=0.23.0 in c:\\users\\nilab\\anaconda3\\envs\\test_esap_marged\\lib\\site-packages (from langsmith<0.4,>=0.1.125->langchain-core<0.4,>=0.1->langgraph) (0.23.0)\n",
            "Requirement already satisfied: annotated-types>=0.6.0 in c:\\users\\nilab\\anaconda3\\envs\\test_esap_marged\\lib\\site-packages (from pydantic<3,>=1.9.0->groq<1,>=0.4.1->langchain-groq) (0.7.0)\n",
            "Requirement already satisfied: pydantic-core==2.27.2 in c:\\users\\nilab\\anaconda3\\envs\\test_esap_marged\\lib\\site-packages (from pydantic<3,>=1.9.0->groq<1,>=0.4.1->langchain-groq) (2.27.2)\n",
            "Requirement already satisfied: charset-normalizer<4,>=2 in c:\\users\\nilab\\anaconda3\\envs\\test_esap_marged\\lib\\site-packages (from requests<3,>=2->langsmith<0.4,>=0.1.125->langchain-core<0.4,>=0.1->langgraph) (3.4.1)\n",
            "Requirement already satisfied: urllib3<3,>=1.21.1 in c:\\users\\nilab\\anaconda3\\envs\\test_esap_marged\\lib\\site-packages (from requests<3,>=2->langsmith<0.4,>=0.1.125->langchain-core<0.4,>=0.1->langgraph) (2.3.0)\n",
            "Downloading langgraph-0.3.5-py3-none-any.whl (131 kB)\n",
            "Downloading langgraph_checkpoint-2.0.16-py3-none-any.whl (38 kB)\n",
            "Downloading langgraph_prebuilt-0.1.1-py3-none-any.whl (24 kB)\n",
            "Downloading langgraph_sdk-0.1.53-py3-none-any.whl (45 kB)\n",
            "Installing collected packages: langgraph-sdk, langgraph-checkpoint, langgraph-prebuilt, langgraph\n",
            "Successfully installed langgraph-0.3.5 langgraph-checkpoint-2.0.16 langgraph-prebuilt-0.1.1 langgraph-sdk-0.1.53\n"
          ]
        }
      ],
      "source": [
        "!pip install langgraph langchain-groq duckduckgo-search"
      ]
    },
    {
      "cell_type": "code",
      "execution_count": 12,
      "metadata": {
        "colab": {
          "base_uri": "https://localhost:8080/"
        },
        "id": "nwFyphrb_moM",
        "outputId": "1cb0a4ae-83bb-4b8b-f9c7-5db8d45b34b9"
      },
      "outputs": [
        {
          "name": "stdout",
          "output_type": "stream",
          "text": [
            "Requirement already satisfied: langchain_community in c:\\users\\nilab\\anaconda3\\envs\\test_esap_marged\\lib\\site-packages (0.3.19)\n",
            "Requirement already satisfied: langchain-core<1.0.0,>=0.3.41 in c:\\users\\nilab\\anaconda3\\envs\\test_esap_marged\\lib\\site-packages (from langchain_community) (0.3.41)\n",
            "Requirement already satisfied: langchain<1.0.0,>=0.3.20 in c:\\users\\nilab\\anaconda3\\envs\\test_esap_marged\\lib\\site-packages (from langchain_community) (0.3.20)\n",
            "Requirement already satisfied: SQLAlchemy<3,>=1.4 in c:\\users\\nilab\\anaconda3\\envs\\test_esap_marged\\lib\\site-packages (from langchain_community) (2.0.37)\n",
            "Requirement already satisfied: requests<3,>=2 in c:\\users\\nilab\\anaconda3\\envs\\test_esap_marged\\lib\\site-packages (from langchain_community) (2.32.3)\n",
            "Requirement already satisfied: PyYAML>=5.3 in c:\\users\\nilab\\anaconda3\\envs\\test_esap_marged\\lib\\site-packages (from langchain_community) (6.0.2)\n",
            "Requirement already satisfied: aiohttp<4.0.0,>=3.8.3 in c:\\users\\nilab\\anaconda3\\envs\\test_esap_marged\\lib\\site-packages (from langchain_community) (3.11.11)\n",
            "Requirement already satisfied: tenacity!=8.4.0,<10,>=8.1.0 in c:\\users\\nilab\\anaconda3\\envs\\test_esap_marged\\lib\\site-packages (from langchain_community) (9.0.0)\n",
            "Requirement already satisfied: dataclasses-json<0.7,>=0.5.7 in c:\\users\\nilab\\anaconda3\\envs\\test_esap_marged\\lib\\site-packages (from langchain_community) (0.6.7)\n",
            "Requirement already satisfied: pydantic-settings<3.0.0,>=2.4.0 in c:\\users\\nilab\\anaconda3\\envs\\test_esap_marged\\lib\\site-packages (from langchain_community) (2.7.1)\n",
            "Requirement already satisfied: langsmith<0.4,>=0.1.125 in c:\\users\\nilab\\anaconda3\\envs\\test_esap_marged\\lib\\site-packages (from langchain_community) (0.3.4)\n",
            "Requirement already satisfied: httpx-sse<1.0.0,>=0.4.0 in c:\\users\\nilab\\anaconda3\\envs\\test_esap_marged\\lib\\site-packages (from langchain_community) (0.4.0)\n",
            "Requirement already satisfied: numpy<3,>=1.26.2 in c:\\users\\nilab\\anaconda3\\envs\\test_esap_marged\\lib\\site-packages (from langchain_community) (1.26.4)\n",
            "Requirement already satisfied: aiohappyeyeballs>=2.3.0 in c:\\users\\nilab\\anaconda3\\envs\\test_esap_marged\\lib\\site-packages (from aiohttp<4.0.0,>=3.8.3->langchain_community) (2.4.4)\n",
            "Requirement already satisfied: aiosignal>=1.1.2 in c:\\users\\nilab\\anaconda3\\envs\\test_esap_marged\\lib\\site-packages (from aiohttp<4.0.0,>=3.8.3->langchain_community) (1.3.2)\n",
            "Requirement already satisfied: attrs>=17.3.0 in c:\\users\\nilab\\anaconda3\\envs\\test_esap_marged\\lib\\site-packages (from aiohttp<4.0.0,>=3.8.3->langchain_community) (25.1.0)\n",
            "Requirement already satisfied: frozenlist>=1.1.1 in c:\\users\\nilab\\anaconda3\\envs\\test_esap_marged\\lib\\site-packages (from aiohttp<4.0.0,>=3.8.3->langchain_community) (1.5.0)\n",
            "Requirement already satisfied: multidict<7.0,>=4.5 in c:\\users\\nilab\\anaconda3\\envs\\test_esap_marged\\lib\\site-packages (from aiohttp<4.0.0,>=3.8.3->langchain_community) (6.1.0)\n",
            "Requirement already satisfied: propcache>=0.2.0 in c:\\users\\nilab\\anaconda3\\envs\\test_esap_marged\\lib\\site-packages (from aiohttp<4.0.0,>=3.8.3->langchain_community) (0.2.1)\n",
            "Requirement already satisfied: yarl<2.0,>=1.17.0 in c:\\users\\nilab\\anaconda3\\envs\\test_esap_marged\\lib\\site-packages (from aiohttp<4.0.0,>=3.8.3->langchain_community) (1.18.3)\n",
            "Requirement already satisfied: marshmallow<4.0.0,>=3.18.0 in c:\\users\\nilab\\anaconda3\\envs\\test_esap_marged\\lib\\site-packages (from dataclasses-json<0.7,>=0.5.7->langchain_community) (3.26.0)\n",
            "Requirement already satisfied: typing-inspect<1,>=0.4.0 in c:\\users\\nilab\\anaconda3\\envs\\test_esap_marged\\lib\\site-packages (from dataclasses-json<0.7,>=0.5.7->langchain_community) (0.9.0)\n",
            "Requirement already satisfied: langchain-text-splitters<1.0.0,>=0.3.6 in c:\\users\\nilab\\anaconda3\\envs\\test_esap_marged\\lib\\site-packages (from langchain<1.0.0,>=0.3.20->langchain_community) (0.3.6)\n",
            "Requirement already satisfied: pydantic<3.0.0,>=2.7.4 in c:\\users\\nilab\\anaconda3\\envs\\test_esap_marged\\lib\\site-packages (from langchain<1.0.0,>=0.3.20->langchain_community) (2.10.6)\n",
            "Requirement already satisfied: jsonpatch<2.0,>=1.33 in c:\\users\\nilab\\anaconda3\\envs\\test_esap_marged\\lib\\site-packages (from langchain-core<1.0.0,>=0.3.41->langchain_community) (1.33)\n",
            "Requirement already satisfied: packaging<25,>=23.2 in c:\\users\\nilab\\anaconda3\\envs\\test_esap_marged\\lib\\site-packages (from langchain-core<1.0.0,>=0.3.41->langchain_community) (24.2)\n",
            "Requirement already satisfied: typing-extensions>=4.7 in c:\\users\\nilab\\anaconda3\\envs\\test_esap_marged\\lib\\site-packages (from langchain-core<1.0.0,>=0.3.41->langchain_community) (4.12.2)\n",
            "Requirement already satisfied: httpx<1,>=0.23.0 in c:\\users\\nilab\\anaconda3\\envs\\test_esap_marged\\lib\\site-packages (from langsmith<0.4,>=0.1.125->langchain_community) (0.28.1)\n",
            "Requirement already satisfied: orjson<4.0.0,>=3.9.14 in c:\\users\\nilab\\anaconda3\\envs\\test_esap_marged\\lib\\site-packages (from langsmith<0.4,>=0.1.125->langchain_community) (3.10.15)\n",
            "Requirement already satisfied: requests-toolbelt<2.0.0,>=1.0.0 in c:\\users\\nilab\\anaconda3\\envs\\test_esap_marged\\lib\\site-packages (from langsmith<0.4,>=0.1.125->langchain_community) (1.0.0)\n",
            "Requirement already satisfied: zstandard<0.24.0,>=0.23.0 in c:\\users\\nilab\\anaconda3\\envs\\test_esap_marged\\lib\\site-packages (from langsmith<0.4,>=0.1.125->langchain_community) (0.23.0)\n",
            "Requirement already satisfied: python-dotenv>=0.21.0 in c:\\users\\nilab\\anaconda3\\envs\\test_esap_marged\\lib\\site-packages (from pydantic-settings<3.0.0,>=2.4.0->langchain_community) (1.0.1)\n",
            "Requirement already satisfied: charset-normalizer<4,>=2 in c:\\users\\nilab\\anaconda3\\envs\\test_esap_marged\\lib\\site-packages (from requests<3,>=2->langchain_community) (3.4.1)\n",
            "Requirement already satisfied: idna<4,>=2.5 in c:\\users\\nilab\\anaconda3\\envs\\test_esap_marged\\lib\\site-packages (from requests<3,>=2->langchain_community) (3.10)\n",
            "Requirement already satisfied: urllib3<3,>=1.21.1 in c:\\users\\nilab\\anaconda3\\envs\\test_esap_marged\\lib\\site-packages (from requests<3,>=2->langchain_community) (2.3.0)\n",
            "Requirement already satisfied: certifi>=2017.4.17 in c:\\users\\nilab\\anaconda3\\envs\\test_esap_marged\\lib\\site-packages (from requests<3,>=2->langchain_community) (2025.1.31)\n",
            "Requirement already satisfied: greenlet!=0.4.17 in c:\\users\\nilab\\anaconda3\\envs\\test_esap_marged\\lib\\site-packages (from SQLAlchemy<3,>=1.4->langchain_community) (3.1.1)\n",
            "Requirement already satisfied: anyio in c:\\users\\nilab\\anaconda3\\envs\\test_esap_marged\\lib\\site-packages (from httpx<1,>=0.23.0->langsmith<0.4,>=0.1.125->langchain_community) (4.8.0)\n",
            "Requirement already satisfied: httpcore==1.* in c:\\users\\nilab\\anaconda3\\envs\\test_esap_marged\\lib\\site-packages (from httpx<1,>=0.23.0->langsmith<0.4,>=0.1.125->langchain_community) (1.0.7)\n",
            "Requirement already satisfied: h11<0.15,>=0.13 in c:\\users\\nilab\\anaconda3\\envs\\test_esap_marged\\lib\\site-packages (from httpcore==1.*->httpx<1,>=0.23.0->langsmith<0.4,>=0.1.125->langchain_community) (0.14.0)\n",
            "Requirement already satisfied: jsonpointer>=1.9 in c:\\users\\nilab\\anaconda3\\envs\\test_esap_marged\\lib\\site-packages (from jsonpatch<2.0,>=1.33->langchain-core<1.0.0,>=0.3.41->langchain_community) (3.0.0)\n",
            "Requirement already satisfied: annotated-types>=0.6.0 in c:\\users\\nilab\\anaconda3\\envs\\test_esap_marged\\lib\\site-packages (from pydantic<3.0.0,>=2.7.4->langchain<1.0.0,>=0.3.20->langchain_community) (0.7.0)\n",
            "Requirement already satisfied: pydantic-core==2.27.2 in c:\\users\\nilab\\anaconda3\\envs\\test_esap_marged\\lib\\site-packages (from pydantic<3.0.0,>=2.7.4->langchain<1.0.0,>=0.3.20->langchain_community) (2.27.2)\n",
            "Requirement already satisfied: mypy-extensions>=0.3.0 in c:\\users\\nilab\\anaconda3\\envs\\test_esap_marged\\lib\\site-packages (from typing-inspect<1,>=0.4.0->dataclasses-json<0.7,>=0.5.7->langchain_community) (1.0.0)\n",
            "Requirement already satisfied: sniffio>=1.1 in c:\\users\\nilab\\anaconda3\\envs\\test_esap_marged\\lib\\site-packages (from anyio->httpx<1,>=0.23.0->langsmith<0.4,>=0.1.125->langchain_community) (1.3.1)\n"
          ]
        }
      ],
      "source": [
        "!pip install langchain_community"
      ]
    },
    {
      "cell_type": "code",
      "execution_count": 11,
      "metadata": {
        "id": "uP6Dh8_-ADM7"
      },
      "outputs": [
        {
          "name": "stdout",
          "output_type": "stream",
          "text": [
            "Note: you may need to restart the kernel to use updated packages.\n"
          ]
        }
      ],
      "source": [
        "%pip install -qU duckduckgo-search langchain-community"
      ]
    },
    {
      "cell_type": "code",
      "execution_count": null,
      "metadata": {
        "colab": {
          "base_uri": "https://localhost:8080/"
        },
        "id": "p9VJivo69vU8",
        "outputId": "78f9484b-935a-48ab-f89a-d860e0480809"
      },
      "outputs": [
        {
          "name": "stdout",
          "output_type": "stream",
          "text": [
            "Convert Saudi Riyal to United States Dollar with the latest exchange rate and historical data. See the fixed peg of 1 USD = 3.75 SAR and quick conversions for common amounts. Quickly and easily calculate foreign exchange rates with this free currency converter. Further Information Saudi Riyal - US-Dollar. Close: 0.2666: Open: 0.2666: Daily Low: 0.2666: Daily High: 0. ... Find out the current and historical exchange rate of SAR to USD with this free currency calculator. See the rates table, graphs and monthly average for Aug 08, 2024. Learn the value of 1 Saudi Riyal (SAR) in United States Dollars (USD) today. The dynamics of the exchange rate change for a week, for a month, for a year on the chart and in the tables. Convert 1 Riyal to Dollars with an online currency converter. It is possible to convert any amount from Saudi Arabian Riyal to US Dollar (SAR to $) using Myfin currency converter at the live rates of 09:20 AM 02-28-2025. 1 SAR ; 100 SAR ... Historical data of the 1 Saudi Arabian Riyal to the US Dollar exchange rate In the table you can find 1 Saudi Arabian Riyal to Dollar exchange rate for the last week. ...\n",
            "Error fetching rate for SAR: Got unknown type E\n",
            "Exchange Rate Indian Rupee to US Dollar Converter. 1.00 INR = 0.01144 5 USD. Mar 03, 2025 08:16 UTC. View INR Rates Table; View USD Rates Table; View INR / USD Graphs; 1. Configure Converter. Current exchange rate INDIAN RUPEE (INR) to US DOLLAR (USD) including currency converter, buying & selling rate and historical conversion chart. The cost of 1 Indian Rupee in United States Dollars today is $0.01 according to the \"Open Exchange Rates\", compared to yesterday, the exchange rate increased by 0.12% (by +$0.000014). The exchange rate of the Indian Rupee in relation to the United States Dollar on the chart, the table of the dynamics of the cost as a percentage for the day, week, month and year. Over the years, the USD-INR exchange rate has been influenced by a variety of factors such as: 1) INR-USD exchange rates are affected by the inflation rate in India and USA. 2) The interest rate is another important factor in determining INR-USD exchange rates. 3) Exchange rates are influenced by government debt as well. INR/USD Exchange Rate One Year ago: 0.0121: Change in Last Full Year: -5.22%. FAQ. Q: What is the Rupee worth against the Dollar? A: One Rupee is worth 0.0115 Dollars today.\n",
            "Error fetching rate for INR: Got unknown type E\n",
            "{\n",
            "  \"results\": [\n",
            "    {\n",
            "      \"product_name\": \"Sony, 55 Inch, 4K HDR, Android TV\",\n",
            "      \"price\": 2499,\n",
            "      \"currency\": \"SAR\",\n",
            "      \"source\": \"https://www.extra.com/en-sa/electronics/television/led/sony-55-inch-4k-hdr-android-tv/p/100312894\",\n",
            "      \"vat_status\": \"Incl. VAT\",\n",
            "      \"payment_type\": null,\n",
            "      \"features_of_product\": \"3 HDMI inputs, Bluetooth, 4K Processor X1, 4K X-Reality PRO, Motionflow XR, Clear Phase, Chromecast built-in, X Protection PRO, Android TV, 2 USB inputs, 16GB internal memory, 10W x 2 speakers, 50Hz, 4K HDR, LED display, 55 inches, 2022 model\",\n",
            "      \"vendor_name\": null,\n",
            "      \"customer_rating\": \"4.5\"\n",
            "    },\n",
            "    {\n",
            "      \"product_name\": \"Sony Bravia 55 inch Google K-55S30 4k LED TV\",\n",
            "      \"price\": 3199,\n",
            "      \"currency\": \"SAR\",\n",
            "      \"source\": \"https://www.almanea.sa/en/product/sony-bravia-55-inch-google-k-55s30-4k-led-tv-p-139904699455048?srsltid=AfmBOoopG0PLoKZaN4hs7CTlWE7L4_V44N6mO8STn8EGHCyQ4uQoh2qK\",\n",
            "      \"vat_status\": \"after vat\",\n",
            "      \"payment_type\": null,\n",
            "      \"features_of_product\": \"4K - LED, 55 inches, UHD 4K, 2 USB Socket, 4 HDMI Sockets, Dimension Net (WxDxH): 123.3 * 7.2 * 71.3, Resolution (MP): 3840*2160, TV ANDROID: Yes, Warranty: 2 years, Country of Manufacture: Malaysia\",\n",
            "      \"vendor_name\": null,\n",
            "      \"customer_rating\": null\n",
            "    },\n",
            "    {\n",
            "      \"product_name\": \"SONY Bravia 139 cm (55 inch) Ultra HD (4K) LED Smart TV (KD-55X85J)\",\n",
            "      \"price\": 79990,\n",
            "      \"currency\": \"INR\",\n",
            "      \"source\": \"https://www.flipkart.com/sony-bravia-139-cm-55-inch-ultra-hd-4k-led-smart-tv/p/itmb1de6db72ae33\",\n",
            "      \"vat_status\": \"after vat\",\n",
            "      \"payment_type\": null,\n",
            "      \"features_of_product\": \"Supported Apps: Not specified, Resolution: Ultra HD (4K) 3840 x 2160 Pixels, Sound Output: 20 W, Refresh Rate: 60 Hz, HDMI: 4, USB: 2, Built In Wi-Fi: Yes, Launch Year: 2021, Number of Speakers: 2, Power Requirement: 220-240 V, Power Consumption: 0.5 W (Standby)\",\n",
            "      \"vendor_name\": \"SameDayDeliveryBLR\",\n",
            "      \"customer_rating\": null\n",
            "    }\n",
            "  ]\n",
            "}\n"
          ]
        }
      ],
      "source": [
        "import json\n",
        "from typing import List, Dict, Any\n",
        "from langgraph.graph import StateGraph, END\n",
        "from langchain_groq import ChatGroq\n",
        "from langchain_core.tools import BaseTool\n",
        "from langchain_community.tools import DuckDuckGoSearchRun\n",
        "from langchain_core.pydantic_v1 import BaseModel, Field\n",
        "import asyncio\n",
        "\n",
        "# Currency conversion tool using LLM extraction\n",
        "class CurrencyConversionTool(BaseTool):\n",
        "    name: str = Field(default=\"currency_converter\", description=\"Name of the tool\")\n",
        "    description: str = Field(\n",
        "        default=\"Converts prices between different currencies using web search and an LLM for extraction\",\n",
        "        description=\"Tool description\"\n",
        "    )\n",
        "\n",
        "    def _run(self, currency: str) -> float:\n",
        "        return self._convert_currency(currency)\n",
        "\n",
        "    def _convert_currency(self, currency: str) -> float:\n",
        "        # Use DuckDuckGo search to find exchange rate text\n",
        "        search_tool = DuckDuckGoSearchRun()\n",
        "        search_query = f\"{currency} to USD exchange rate\"\n",
        "        search_results = search_tool.run(search_query)\n",
        "        print(search_results)\n",
        "        # Initialize LLM to extract the exchange rate from the search results.\n",
        "        llm = ChatGroq(\n",
        "            groq_api_key=\"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\",\n",
        "            temperature=0,\n",
        "            model_name=\"llama3-70b-8192\"\n",
        "        )\n",
        "        prompt = (\n",
        "            f\"Extract the numeric exchange rate for converting 1 {currency} to USD \"\n",
        "            f\"from the following text. Only provide the number:\\n\\n{search_results}\"\n",
        "        )\n",
        "        # Use direct call instead of llm.run()\n",
        "        llm_output = llm(prompt)\n",
        "        try:\n",
        "            rate = float(llm_output.strip())\n",
        "            return rate\n",
        "        except Exception as e:\n",
        "            raise ValueError(f\"Could not extract conversion rate for {currency}. LLM output: {llm_output}\") from e\n",
        "\n",
        "# Calculator tool\n",
        "class CalculatorTool(BaseTool):\n",
        "    name: str = \"calculator\"\n",
        "    description: str = \"Performs basic arithmetic calculations\"\n",
        "\n",
        "    def _run(self, expression: str) -> float:\n",
        "        # WARNING: eval can be dangerous in production environments.\n",
        "        return eval(expression)\n",
        "\n",
        "# State for the agent\n",
        "class AgentState(BaseModel):\n",
        "    input: List[Dict[Any, Any]] = Field(default_factory=list)\n",
        "    output: List[Dict[Any, Any]] = Field(default_factory=list)\n",
        "    currency_rates: Dict[str, float] = Field(default_factory=dict)\n",
        "\n",
        "# Create the agent workflow\n",
        "async def create_currency_conversion_agent():\n",
        "    # Initialize tools\n",
        "    currency_tool = CurrencyConversionTool()\n",
        "    calculator_tool = CalculatorTool()\n",
        "\n",
        "    # Initialize Groq LLM (used for agent integration; not directly in conversion now)\n",
        "    llm = ChatGroq(\n",
        "        groq_api_key=\"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\",\n",
        "        temperature=0,\n",
        "        model_name=\"llama3-70b-8192\"\n",
        "    )\n",
        "\n",
        "    # Define the workflow graph\n",
        "    workflow = StateGraph(AgentState)\n",
        "\n",
        "    # Node to fetch currency rates using LLM extraction\n",
        "    async def fetch_currency_rates(state: AgentState):\n",
        "        # Collect unique currencies (excluding USD) from the input\n",
        "        currencies = set(item['currency'] for item in state.input if item['currency'] != 'USD')\n",
        "        currency_rates = {}\n",
        "        for currency in currencies:\n",
        "            try:\n",
        "                rate = currency_tool.run(currency)\n",
        "                currency_rates[currency] = rate\n",
        "            except Exception as e:\n",
        "                print(f\"Error fetching rate for {currency}: {e}\")\n",
        "        new_state = state.dict()\n",
        "        new_state['currency_rates'] = currency_rates\n",
        "        return new_state\n",
        "\n",
        "    # Node to convert prices using the fetched currency rates and the calculator tool\n",
        "    async def convert_prices(state: AgentState):\n",
        "        converted_results = []\n",
        "        for item in state.input:\n",
        "            converted_item = item.copy()\n",
        "            if item['currency'] != 'USD':\n",
        "                try:\n",
        "                    rate = state.currency_rates.get(item['currency'])\n",
        "                    if rate:\n",
        "                        # Use the calculator tool to compute price * rate via an expression string\n",
        "                        expression = f\"{item['price']}*{rate}\"\n",
        "                        calculated_value = calculator_tool.run(expression)\n",
        "                        converted_item['price'] = round(float(calculated_value), 2)\n",
        "                        converted_item['currency'] = 'USD'\n",
        "                except Exception as e:\n",
        "                    print(f\"Error converting price for {item.get('product_name')}: {e}\")\n",
        "            converted_results.append(converted_item)\n",
        "        new_state = state.dict()\n",
        "        new_state['output'] = converted_results\n",
        "        return new_state\n",
        "\n",
        "    # Add nodes to the workflow\n",
        "    workflow.add_node(\"fetch_rates\", fetch_currency_rates)\n",
        "    workflow.add_node(\"convert_prices\", convert_prices)\n",
        "\n",
        "    # Define edges: first fetch rates, then convert prices, then end\n",
        "    workflow.set_entry_point(\"fetch_rates\")\n",
        "    workflow.add_edge(\"fetch_rates\", \"convert_prices\")\n",
        "    workflow.add_edge(\"convert_prices\", END)\n",
        "\n",
        "    # Compile the graph\n",
        "    app = workflow.compile()\n",
        "    return app\n",
        "\n",
        "# Main execution function\n",
        "async def main():\n",
        "    # Input JSON data (demo)\n",
        "    input_data = {\n",
        "        \"results\": [\n",
        "            {\n",
        "                \"product_name\": \"Sony, 55 Inch, 4K HDR, Android TV\",\n",
        "                \"price\": 2499,\n",
        "                \"currency\": \"SAR\",\n",
        "                \"source\": \"https://www.extra.com/en-sa/electronics/television/led/sony-55-inch-4k-hdr-android-tv/p/100312894\",\n",
        "                \"vat_status\": \"Incl. VAT\",\n",
        "                \"payment_type\": None,\n",
        "                \"features_of_product\": \"3 HDMI inputs, Bluetooth, 4K Processor X1, 4K X-Reality PRO, Motionflow XR, Clear Phase, Chromecast built-in, X Protection PRO, Android TV, 2 USB inputs, 16GB internal memory, 10W x 2 speakers, 50Hz, 4K HDR, LED display, 55 inches, 2022 model\",\n",
        "                \"vendor_name\": None,\n",
        "                \"customer_rating\": \"4.5\"\n",
        "            },\n",
        "            {\n",
        "                \"product_name\": \"Sony Bravia 55 inch Google K-55S30 4k LED TV\",\n",
        "                \"price\": 3199,\n",
        "                \"currency\": \"SAR\",\n",
        "                \"source\": \"https://www.almanea.sa/en/product/sony-bravia-55-inch-google-k-55s30-4k-led-tv-p-139904699455048?srsltid=AfmBOoopG0PLoKZaN4hs7CTlWE7L4_V44N6mO8STn8EGHCyQ4uQoh2qK\",\n",
        "                \"vat_status\": \"after vat\",\n",
        "                \"payment_type\": None,\n",
        "                \"features_of_product\": \"4K - LED, 55 inches, UHD 4K, 2 USB Socket, 4 HDMI Sockets, Dimension Net (WxDxH): 123.3 * 7.2 * 71.3, Resolution (MP): 3840*2160, TV ANDROID: Yes, Warranty: 2 years, Country of Manufacture: Malaysia\",\n",
        "                \"vendor_name\": None,\n",
        "                \"customer_rating\": None\n",
        "            },\n",
        "            {\n",
        "                \"product_name\": \"SONY Bravia 139 cm (55 inch) Ultra HD (4K) LED Smart TV (KD-55X85J)\",\n",
        "                \"price\": 79990,\n",
        "                \"currency\": \"INR\",\n",
        "                \"source\": \"https://www.flipkart.com/sony-bravia-139-cm-55-inch-ultra-hd-4k-led-smart-tv/p/itmb1de6db72ae33\",\n",
        "                \"vat_status\": \"after vat\",\n",
        "                \"payment_type\": None,\n",
        "                \"features_of_product\": \"Supported Apps: Not specified, Resolution: Ultra HD (4K) 3840 x 2160 Pixels, Sound Output: 20 W, Refresh Rate: 60 Hz, HDMI: 4, USB: 2, Built In Wi-Fi: Yes, Launch Year: 2021, Number of Speakers: 2, Power Requirement: 220-240 V, Power Consumption: 0.5 W (Standby)\",\n",
        "                \"vendor_name\": \"SameDayDeliveryBLR\",\n",
        "                \"customer_rating\": None\n",
        "            }\n",
        "        ]\n",
        "    }\n",
        "\n",
        "    # Create and run the agent\n",
        "    agent = await create_currency_conversion_agent()\n",
        "    result = await agent.ainvoke({\"input\": input_data[\"results\"]})\n",
        "\n",
        "    # Print and save the result\n",
        "    output = {\"results\": result['output']}\n",
        "    print(json.dumps(output, indent=2))\n",
        "    with open('converted_prices.json', 'w') as f:\n",
        "        json.dump(output, f, indent=2)\n",
        "\n",
        "# Run the main function\n",
        "if __name__ == \"__main__\":\n",
        "    import nest_asyncio\n",
        "    nest_asyncio.apply()  # Allow nested event loops\n",
        "    asyncio.run(main())\n"
      ]
    },
    {
      "cell_type": "code",
      "execution_count": 10,
      "metadata": {
        "colab": {
          "base_uri": "https://localhost:8080/"
        },
        "id": "V1DmDbeiOKWq",
        "outputId": "bb4a7367-71b1-428d-8b1f-6096109bd8cc"
      },
      "outputs": [
        {
          "name": "stdout",
          "output_type": "stream",
          "text": [
            "Collecting langchain_experimental\n",
            "  Downloading langchain_experimental-0.3.4-py3-none-any.whl.metadata (1.7 kB)\n",
            "Requirement already satisfied: langchain-community<0.4.0,>=0.3.0 in c:\\users\\nilab\\anaconda3\\envs\\test_esap_marged\\lib\\site-packages (from langchain_experimental) (0.3.17)\n",
            "Requirement already satisfied: langchain-core<0.4.0,>=0.3.28 in c:\\users\\nilab\\anaconda3\\envs\\test_esap_marged\\lib\\site-packages (from langchain_experimental) (0.3.35)\n",
            "Requirement already satisfied: langchain<1.0.0,>=0.3.18 in c:\\users\\nilab\\anaconda3\\envs\\test_esap_marged\\lib\\site-packages (from langchain-community<0.4.0,>=0.3.0->langchain_experimental) (0.3.18)\n",
            "Requirement already satisfied: SQLAlchemy<3,>=1.4 in c:\\users\\nilab\\anaconda3\\envs\\test_esap_marged\\lib\\site-packages (from langchain-community<0.4.0,>=0.3.0->langchain_experimental) (2.0.37)\n",
            "Requirement already satisfied: requests<3,>=2 in c:\\users\\nilab\\anaconda3\\envs\\test_esap_marged\\lib\\site-packages (from langchain-community<0.4.0,>=0.3.0->langchain_experimental) (2.32.3)\n",
            "Requirement already satisfied: PyYAML>=5.3 in c:\\users\\nilab\\anaconda3\\envs\\test_esap_marged\\lib\\site-packages (from langchain-community<0.4.0,>=0.3.0->langchain_experimental) (6.0.2)\n",
            "Requirement already satisfied: aiohttp<4.0.0,>=3.8.3 in c:\\users\\nilab\\anaconda3\\envs\\test_esap_marged\\lib\\site-packages (from langchain-community<0.4.0,>=0.3.0->langchain_experimental) (3.11.11)\n",
            "Requirement already satisfied: tenacity!=8.4.0,<10,>=8.1.0 in c:\\users\\nilab\\anaconda3\\envs\\test_esap_marged\\lib\\site-packages (from langchain-community<0.4.0,>=0.3.0->langchain_experimental) (9.0.0)\n",
            "Requirement already satisfied: dataclasses-json<0.7,>=0.5.7 in c:\\users\\nilab\\anaconda3\\envs\\test_esap_marged\\lib\\site-packages (from langchain-community<0.4.0,>=0.3.0->langchain_experimental) (0.6.7)\n",
            "Requirement already satisfied: pydantic-settings<3.0.0,>=2.4.0 in c:\\users\\nilab\\anaconda3\\envs\\test_esap_marged\\lib\\site-packages (from langchain-community<0.4.0,>=0.3.0->langchain_experimental) (2.7.1)\n",
            "Requirement already satisfied: langsmith<0.4,>=0.1.125 in c:\\users\\nilab\\anaconda3\\envs\\test_esap_marged\\lib\\site-packages (from langchain-community<0.4.0,>=0.3.0->langchain_experimental) (0.3.4)\n",
            "Requirement already satisfied: httpx-sse<1.0.0,>=0.4.0 in c:\\users\\nilab\\anaconda3\\envs\\test_esap_marged\\lib\\site-packages (from langchain-community<0.4.0,>=0.3.0->langchain_experimental) (0.4.0)\n",
            "Requirement already satisfied: numpy<2,>=1.26.4 in c:\\users\\nilab\\anaconda3\\envs\\test_esap_marged\\lib\\site-packages (from langchain-community<0.4.0,>=0.3.0->langchain_experimental) (1.26.4)\n",
            "Requirement already satisfied: jsonpatch<2.0,>=1.33 in c:\\users\\nilab\\anaconda3\\envs\\test_esap_marged\\lib\\site-packages (from langchain-core<0.4.0,>=0.3.28->langchain_experimental) (1.33)\n",
            "Requirement already satisfied: packaging<25,>=23.2 in c:\\users\\nilab\\anaconda3\\envs\\test_esap_marged\\lib\\site-packages (from langchain-core<0.4.0,>=0.3.28->langchain_experimental) (24.2)\n",
            "Requirement already satisfied: typing-extensions>=4.7 in c:\\users\\nilab\\anaconda3\\envs\\test_esap_marged\\lib\\site-packages (from langchain-core<0.4.0,>=0.3.28->langchain_experimental) (4.12.2)\n",
            "Requirement already satisfied: pydantic<3.0.0,>=2.5.2 in c:\\users\\nilab\\anaconda3\\envs\\test_esap_marged\\lib\\site-packages (from langchain-core<0.4.0,>=0.3.28->langchain_experimental) (2.10.6)\n",
            "Requirement already satisfied: aiohappyeyeballs>=2.3.0 in c:\\users\\nilab\\anaconda3\\envs\\test_esap_marged\\lib\\site-packages (from aiohttp<4.0.0,>=3.8.3->langchain-community<0.4.0,>=0.3.0->langchain_experimental) (2.4.4)\n",
            "Requirement already satisfied: aiosignal>=1.1.2 in c:\\users\\nilab\\anaconda3\\envs\\test_esap_marged\\lib\\site-packages (from aiohttp<4.0.0,>=3.8.3->langchain-community<0.4.0,>=0.3.0->langchain_experimental) (1.3.2)\n",
            "Requirement already satisfied: attrs>=17.3.0 in c:\\users\\nilab\\anaconda3\\envs\\test_esap_marged\\lib\\site-packages (from aiohttp<4.0.0,>=3.8.3->langchain-community<0.4.0,>=0.3.0->langchain_experimental) (25.1.0)\n",
            "Requirement already satisfied: frozenlist>=1.1.1 in c:\\users\\nilab\\anaconda3\\envs\\test_esap_marged\\lib\\site-packages (from aiohttp<4.0.0,>=3.8.3->langchain-community<0.4.0,>=0.3.0->langchain_experimental) (1.5.0)\n",
            "Requirement already satisfied: multidict<7.0,>=4.5 in c:\\users\\nilab\\anaconda3\\envs\\test_esap_marged\\lib\\site-packages (from aiohttp<4.0.0,>=3.8.3->langchain-community<0.4.0,>=0.3.0->langchain_experimental) (6.1.0)\n",
            "Requirement already satisfied: propcache>=0.2.0 in c:\\users\\nilab\\anaconda3\\envs\\test_esap_marged\\lib\\site-packages (from aiohttp<4.0.0,>=3.8.3->langchain-community<0.4.0,>=0.3.0->langchain_experimental) (0.2.1)\n",
            "Requirement already satisfied: yarl<2.0,>=1.17.0 in c:\\users\\nilab\\anaconda3\\envs\\test_esap_marged\\lib\\site-packages (from aiohttp<4.0.0,>=3.8.3->langchain-community<0.4.0,>=0.3.0->langchain_experimental) (1.18.3)\n",
            "Requirement already satisfied: marshmallow<4.0.0,>=3.18.0 in c:\\users\\nilab\\anaconda3\\envs\\test_esap_marged\\lib\\site-packages (from dataclasses-json<0.7,>=0.5.7->langchain-community<0.4.0,>=0.3.0->langchain_experimental) (3.26.0)\n",
            "Requirement already satisfied: typing-inspect<1,>=0.4.0 in c:\\users\\nilab\\anaconda3\\envs\\test_esap_marged\\lib\\site-packages (from dataclasses-json<0.7,>=0.5.7->langchain-community<0.4.0,>=0.3.0->langchain_experimental) (0.9.0)\n",
            "Requirement already satisfied: jsonpointer>=1.9 in c:\\users\\nilab\\anaconda3\\envs\\test_esap_marged\\lib\\site-packages (from jsonpatch<2.0,>=1.33->langchain-core<0.4.0,>=0.3.28->langchain_experimental) (3.0.0)\n",
            "Requirement already satisfied: langchain-text-splitters<1.0.0,>=0.3.6 in c:\\users\\nilab\\anaconda3\\envs\\test_esap_marged\\lib\\site-packages (from langchain<1.0.0,>=0.3.18->langchain-community<0.4.0,>=0.3.0->langchain_experimental) (0.3.6)\n",
            "Requirement already satisfied: httpx<1,>=0.23.0 in c:\\users\\nilab\\anaconda3\\envs\\test_esap_marged\\lib\\site-packages (from langsmith<0.4,>=0.1.125->langchain-community<0.4.0,>=0.3.0->langchain_experimental) (0.28.1)\n",
            "Requirement already satisfied: orjson<4.0.0,>=3.9.14 in c:\\users\\nilab\\anaconda3\\envs\\test_esap_marged\\lib\\site-packages (from langsmith<0.4,>=0.1.125->langchain-community<0.4.0,>=0.3.0->langchain_experimental) (3.10.15)\n",
            "Requirement already satisfied: requests-toolbelt<2.0.0,>=1.0.0 in c:\\users\\nilab\\anaconda3\\envs\\test_esap_marged\\lib\\site-packages (from langsmith<0.4,>=0.1.125->langchain-community<0.4.0,>=0.3.0->langchain_experimental) (1.0.0)\n",
            "Requirement already satisfied: zstandard<0.24.0,>=0.23.0 in c:\\users\\nilab\\anaconda3\\envs\\test_esap_marged\\lib\\site-packages (from langsmith<0.4,>=0.1.125->langchain-community<0.4.0,>=0.3.0->langchain_experimental) (0.23.0)\n",
            "Requirement already satisfied: annotated-types>=0.6.0 in c:\\users\\nilab\\anaconda3\\envs\\test_esap_marged\\lib\\site-packages (from pydantic<3.0.0,>=2.5.2->langchain-core<0.4.0,>=0.3.28->langchain_experimental) (0.7.0)\n",
            "Requirement already satisfied: pydantic-core==2.27.2 in c:\\users\\nilab\\anaconda3\\envs\\test_esap_marged\\lib\\site-packages (from pydantic<3.0.0,>=2.5.2->langchain-core<0.4.0,>=0.3.28->langchain_experimental) (2.27.2)\n",
            "Requirement already satisfied: python-dotenv>=0.21.0 in c:\\users\\nilab\\anaconda3\\envs\\test_esap_marged\\lib\\site-packages (from pydantic-settings<3.0.0,>=2.4.0->langchain-community<0.4.0,>=0.3.0->langchain_experimental) (1.0.1)\n",
            "Requirement already satisfied: charset-normalizer<4,>=2 in c:\\users\\nilab\\anaconda3\\envs\\test_esap_marged\\lib\\site-packages (from requests<3,>=2->langchain-community<0.4.0,>=0.3.0->langchain_experimental) (3.4.1)\n",
            "Requirement already satisfied: idna<4,>=2.5 in c:\\users\\nilab\\anaconda3\\envs\\test_esap_marged\\lib\\site-packages (from requests<3,>=2->langchain-community<0.4.0,>=0.3.0->langchain_experimental) (3.10)\n",
            "Requirement already satisfied: urllib3<3,>=1.21.1 in c:\\users\\nilab\\anaconda3\\envs\\test_esap_marged\\lib\\site-packages (from requests<3,>=2->langchain-community<0.4.0,>=0.3.0->langchain_experimental) (2.3.0)\n",
            "Requirement already satisfied: certifi>=2017.4.17 in c:\\users\\nilab\\anaconda3\\envs\\test_esap_marged\\lib\\site-packages (from requests<3,>=2->langchain-community<0.4.0,>=0.3.0->langchain_experimental) (2025.1.31)\n",
            "Requirement already satisfied: greenlet!=0.4.17 in c:\\users\\nilab\\anaconda3\\envs\\test_esap_marged\\lib\\site-packages (from SQLAlchemy<3,>=1.4->langchain-community<0.4.0,>=0.3.0->langchain_experimental) (3.1.1)\n",
            "Requirement already satisfied: anyio in c:\\users\\nilab\\anaconda3\\envs\\test_esap_marged\\lib\\site-packages (from httpx<1,>=0.23.0->langsmith<0.4,>=0.1.125->langchain-community<0.4.0,>=0.3.0->langchain_experimental) (4.8.0)\n",
            "Requirement already satisfied: httpcore==1.* in c:\\users\\nilab\\anaconda3\\envs\\test_esap_marged\\lib\\site-packages (from httpx<1,>=0.23.0->langsmith<0.4,>=0.1.125->langchain-community<0.4.0,>=0.3.0->langchain_experimental) (1.0.7)\n",
            "Requirement already satisfied: h11<0.15,>=0.13 in c:\\users\\nilab\\anaconda3\\envs\\test_esap_marged\\lib\\site-packages (from httpcore==1.*->httpx<1,>=0.23.0->langsmith<0.4,>=0.1.125->langchain-community<0.4.0,>=0.3.0->langchain_experimental) (0.14.0)\n",
            "Requirement already satisfied: mypy-extensions>=0.3.0 in c:\\users\\nilab\\anaconda3\\envs\\test_esap_marged\\lib\\site-packages (from typing-inspect<1,>=0.4.0->dataclasses-json<0.7,>=0.5.7->langchain-community<0.4.0,>=0.3.0->langchain_experimental) (1.0.0)\n",
            "Requirement already satisfied: sniffio>=1.1 in c:\\users\\nilab\\anaconda3\\envs\\test_esap_marged\\lib\\site-packages (from anyio->httpx<1,>=0.23.0->langsmith<0.4,>=0.1.125->langchain-community<0.4.0,>=0.3.0->langchain_experimental) (1.3.1)\n",
            "Downloading langchain_experimental-0.3.4-py3-none-any.whl (209 kB)\n",
            "Installing collected packages: langchain_experimental\n",
            "Successfully installed langchain_experimental-0.3.4\n"
          ]
        }
      ],
      "source": [
        "!pip install langchain_experimental"
      ]
    },
    {
      "cell_type": "code",
      "execution_count": null,
      "metadata": {
        "id": "HtpyGBVOJs6J"
      },
      "outputs": [],
      "source": [
        "from langchain_community.utilities import GoogleSerperAPIWrapper\n"
      ]
    },
    {
      "cell_type": "code",
      "execution_count": 9,
      "metadata": {
        "colab": {
          "base_uri": "https://localhost:8080/",
          "height": 122
        },
        "id": "OhixJQzmJtrX",
        "outputId": "2a8fd5ca-0858-4edb-8ba8-558d763bfc25"
      },
      "outputs": [
        {
          "ename": "ImportError",
          "evalue": "Could not import duckduckgo-search python package. Please install it with `pip install -U duckduckgo-search`.",
          "output_type": "error",
          "traceback": [
            "\u001b[1;31m---------------------------------------------------------------------------\u001b[0m",
            "\u001b[1;31mModuleNotFoundError\u001b[0m                       Traceback (most recent call last)",
            "File \u001b[1;32mc:\\Users\\Nilab\\anaconda3\\envs\\test_esap_marged\\Lib\\site-packages\\langchain_community\\utilities\\duckduckgo_search.py:49\u001b[0m, in \u001b[0;36mDuckDuckGoSearchAPIWrapper.validate_environment\u001b[1;34m(cls, values)\u001b[0m\n\u001b[0;32m     48\u001b[0m \u001b[38;5;28;01mtry\u001b[39;00m:\n\u001b[1;32m---> 49\u001b[0m     \u001b[38;5;28;01mfrom\u001b[39;00m\u001b[38;5;250m \u001b[39m\u001b[38;5;21;01mduckduckgo_search\u001b[39;00m\u001b[38;5;250m \u001b[39m\u001b[38;5;28;01mimport\u001b[39;00m DDGS  \u001b[38;5;66;03m# noqa: F401\u001b[39;00m\n\u001b[0;32m     50\u001b[0m \u001b[38;5;28;01mexcept\u001b[39;00m \u001b[38;5;167;01mImportError\u001b[39;00m:\n",
            "\u001b[1;31mModuleNotFoundError\u001b[0m: No module named 'duckduckgo_search'",
            "\nDuring handling of the above exception, another exception occurred:\n",
            "\u001b[1;31mImportError\u001b[0m                               Traceback (most recent call last)",
            "Cell \u001b[1;32mIn[9], line 3\u001b[0m\n\u001b[0;32m      1\u001b[0m \u001b[38;5;28;01mfrom\u001b[39;00m\u001b[38;5;250m \u001b[39m\u001b[38;5;21;01mlangchain_community\u001b[39;00m\u001b[38;5;21;01m.\u001b[39;00m\u001b[38;5;21;01mtools\u001b[39;00m\u001b[38;5;250m \u001b[39m\u001b[38;5;28;01mimport\u001b[39;00m DuckDuckGoSearchRun\n\u001b[1;32m----> 3\u001b[0m search \u001b[38;5;241m=\u001b[39m \u001b[43mDuckDuckGoSearchRun\u001b[49m\u001b[43m(\u001b[49m\u001b[43m)\u001b[49m\n\u001b[0;32m      5\u001b[0m x\u001b[38;5;241m=\u001b[39msearch\u001b[38;5;241m.\u001b[39minvoke(\u001b[38;5;124m\"\u001b[39m\u001b[38;5;124mBdt to RM exchange rate\u001b[39m\u001b[38;5;124m\"\u001b[39m)\n\u001b[0;32m      7\u001b[0m \u001b[38;5;28;01mfrom\u001b[39;00m\u001b[38;5;250m \u001b[39m\u001b[38;5;21;01mlangchain_core\u001b[39;00m\u001b[38;5;21;01m.\u001b[39;00m\u001b[38;5;21;01mpydantic_v1\u001b[39;00m\u001b[38;5;250m \u001b[39m\u001b[38;5;28;01mimport\u001b[39;00m BaseModel, Field\n",
            "File \u001b[1;32mc:\\Users\\Nilab\\anaconda3\\envs\\test_esap_marged\\Lib\\site-packages\\langchain_core\\tools\\base.py:432\u001b[0m, in \u001b[0;36mBaseTool.__init__\u001b[1;34m(self, **kwargs)\u001b[0m\n\u001b[0;32m    427\u001b[0m     msg \u001b[38;5;241m=\u001b[39m (\n\u001b[0;32m    428\u001b[0m         \u001b[38;5;124mf\u001b[39m\u001b[38;5;124m\"\u001b[39m\u001b[38;5;124margs_schema must be a subclass of pydantic BaseModel. \u001b[39m\u001b[38;5;124m\"\u001b[39m\n\u001b[0;32m    429\u001b[0m         \u001b[38;5;124mf\u001b[39m\u001b[38;5;124m\"\u001b[39m\u001b[38;5;124mGot: \u001b[39m\u001b[38;5;132;01m{\u001b[39;00mkwargs[\u001b[38;5;124m'\u001b[39m\u001b[38;5;124margs_schema\u001b[39m\u001b[38;5;124m'\u001b[39m]\u001b[38;5;132;01m}\u001b[39;00m\u001b[38;5;124m.\u001b[39m\u001b[38;5;124m\"\u001b[39m\n\u001b[0;32m    430\u001b[0m     )\n\u001b[0;32m    431\u001b[0m     \u001b[38;5;28;01mraise\u001b[39;00m \u001b[38;5;167;01mTypeError\u001b[39;00m(msg)\n\u001b[1;32m--> 432\u001b[0m \u001b[38;5;28;43msuper\u001b[39;49m\u001b[43m(\u001b[49m\u001b[43m)\u001b[49m\u001b[38;5;241;43m.\u001b[39;49m\u001b[38;5;21;43m__init__\u001b[39;49m\u001b[43m(\u001b[49m\u001b[38;5;241;43m*\u001b[39;49m\u001b[38;5;241;43m*\u001b[39;49m\u001b[43mkwargs\u001b[49m\u001b[43m)\u001b[49m\n",
            "File \u001b[1;32mc:\\Users\\Nilab\\anaconda3\\envs\\test_esap_marged\\Lib\\site-packages\\langchain_core\\load\\serializable.py:125\u001b[0m, in \u001b[0;36mSerializable.__init__\u001b[1;34m(self, *args, **kwargs)\u001b[0m\n\u001b[0;32m    123\u001b[0m \u001b[38;5;28;01mdef\u001b[39;00m\u001b[38;5;250m \u001b[39m\u001b[38;5;21m__init__\u001b[39m(\u001b[38;5;28mself\u001b[39m, \u001b[38;5;241m*\u001b[39margs: Any, \u001b[38;5;241m*\u001b[39m\u001b[38;5;241m*\u001b[39mkwargs: Any) \u001b[38;5;241m-\u001b[39m\u001b[38;5;241m>\u001b[39m \u001b[38;5;28;01mNone\u001b[39;00m:\n\u001b[0;32m    124\u001b[0m \u001b[38;5;250m    \u001b[39m\u001b[38;5;124;03m\"\"\"\"\"\"\u001b[39;00m\n\u001b[1;32m--> 125\u001b[0m     \u001b[38;5;28;43msuper\u001b[39;49m\u001b[43m(\u001b[49m\u001b[43m)\u001b[49m\u001b[38;5;241;43m.\u001b[39;49m\u001b[38;5;21;43m__init__\u001b[39;49m\u001b[43m(\u001b[49m\u001b[38;5;241;43m*\u001b[39;49m\u001b[43margs\u001b[49m\u001b[43m,\u001b[49m\u001b[43m \u001b[49m\u001b[38;5;241;43m*\u001b[39;49m\u001b[38;5;241;43m*\u001b[39;49m\u001b[43mkwargs\u001b[49m\u001b[43m)\u001b[49m\n",
            "    \u001b[1;31m[... skipping hidden 2 frame]\u001b[0m\n",
            "File \u001b[1;32mc:\\Users\\Nilab\\anaconda3\\envs\\test_esap_marged\\Lib\\site-packages\\langchain_community\\utilities\\duckduckgo_search.py:51\u001b[0m, in \u001b[0;36mDuckDuckGoSearchAPIWrapper.validate_environment\u001b[1;34m(cls, values)\u001b[0m\n\u001b[0;32m     49\u001b[0m     \u001b[38;5;28;01mfrom\u001b[39;00m\u001b[38;5;250m \u001b[39m\u001b[38;5;21;01mduckduckgo_search\u001b[39;00m\u001b[38;5;250m \u001b[39m\u001b[38;5;28;01mimport\u001b[39;00m DDGS  \u001b[38;5;66;03m# noqa: F401\u001b[39;00m\n\u001b[0;32m     50\u001b[0m \u001b[38;5;28;01mexcept\u001b[39;00m \u001b[38;5;167;01mImportError\u001b[39;00m:\n\u001b[1;32m---> 51\u001b[0m     \u001b[38;5;28;01mraise\u001b[39;00m \u001b[38;5;167;01mImportError\u001b[39;00m(\n\u001b[0;32m     52\u001b[0m         \u001b[38;5;124m\"\u001b[39m\u001b[38;5;124mCould not import duckduckgo-search python package. \u001b[39m\u001b[38;5;124m\"\u001b[39m\n\u001b[0;32m     53\u001b[0m         \u001b[38;5;124m\"\u001b[39m\u001b[38;5;124mPlease install it with `pip install -U duckduckgo-search`.\u001b[39m\u001b[38;5;124m\"\u001b[39m\n\u001b[0;32m     54\u001b[0m     )\n\u001b[0;32m     55\u001b[0m \u001b[38;5;28;01mreturn\u001b[39;00m values\n",
            "\u001b[1;31mImportError\u001b[0m: Could not import duckduckgo-search python package. Please install it with `pip install -U duckduckgo-search`."
          ]
        }
      ],
      "source": [
        "from langchain_community.tools import DuckDuckGoSearchRun\n",
        "\n",
        "search = DuckDuckGoSearchRun()\n",
        "\n",
        "x=search.invoke(\"Bdt to RM exchange rate\")\n",
        "\n",
        "from langchain_core.pydantic_v1 import BaseModel, Field\n",
        "\n",
        "class CurrencyConversion(BaseModel):\n",
        "    from_currency: str = Field(..., description=\"The currency to convert from (e.g., USD)\")\n",
        "    to_currency: str = Field(..., description=\"The target currency to convert to (e.g., BDT)\")\n",
        "    conversion_rate: float = Field(..., description=\"The conversion rate from 1 unit of the 'from_currency' to the 'to_currency' (e.g., if 1 USD = 120 BDT, then conversion_rate is 120)\")\n",
        "model = ChatGroq(\n",
        "        groq_api_key=\"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\",\n",
        "        temperature=0,\n",
        "        model_name=\"llama3-8b-8192\"\n",
        "    )\n",
        "structured_llm = model.with_structured_output(CurrencyConversion)\n",
        "structured_llm.invoke(x)"
      ]
    },
    {
      "cell_type": "code",
      "execution_count": null,
      "metadata": {
        "id": "apVIhwhwFVRY"
      },
      "outputs": [],
      "source": []
    },
    {
      "cell_type": "code",
      "execution_count": null,
      "metadata": {
        "id": "kyiWk0L3F4Bh"
      },
      "outputs": [],
      "source": [
        "from langchain_groq import ChatGroq"
      ]
    },
    {
      "cell_type": "code",
      "execution_count": null,
      "metadata": {
        "id": "joT4ODBdF8th"
      },
      "outputs": [],
      "source": []
    },
    {
      "cell_type": "code",
      "execution_count": null,
      "metadata": {
        "colab": {
          "base_uri": "https://localhost:8080/"
        },
        "id": "wvVwC6LFGKnH",
        "outputId": "6bcead86-1bf3-4b42-c88b-5445f959af52"
      },
      "outputs": [
        {
          "data": {
            "text/plain": [
              "CurrencyConversion(from_currency='MYR', to_currency='BDT', conversion_rate=27.4155)"
            ]
          },
          "execution_count": 59,
          "metadata": {},
          "output_type": "execute_result"
        }
      ],
      "source": []
    },
    {
      "cell_type": "code",
      "execution_count": 1,
      "metadata": {
        "id": "0RqgtC_yRAff"
      },
      "outputs": [
        {
          "name": "stdout",
          "output_type": "stream",
          "text": [
            "Note: you may need to restart the kernel to use updated packages.\n"
          ]
        }
      ],
      "source": [
        "%pip install -qU langchain-ollama"
      ]
    },
    {
      "cell_type": "code",
      "execution_count": 1,
      "metadata": {
        "id": "kv3u3TFaRCU8"
      },
      "outputs": [],
      "source": [
        "from langchain_ollama import ChatOllama\n",
        "\n",
        "llm = ChatOllama(\n",
        "    base_url=\"https://cq1pjldgq1oqaf-11434.proxy.runpod.net\",\n",
        "    model=\"qwen2.5:14b\",\n",
        "    temperature=0,\n",
        "    # other params...\n",
        ")"
      ]
    },
    {
      "cell_type": "code",
      "execution_count": 2,
      "metadata": {
        "colab": {
          "base_uri": "https://localhost:8080/"
        },
        "id": "4u5X9K3EQbOi",
        "outputId": "a6f0bab0-b1e9-4773-dde0-03143aaa69bb"
      },
      "outputs": [
        {
          "name": "stderr",
          "output_type": "stream",
          "text": [
            "C:\\Users\\Nilab\\AppData\\Local\\Temp\\ipykernel_20732\\3446431988.py:16: LangChainDeprecationWarning: LangChain agents will continue to be supported, but it is recommended for new use cases to be built with LangGraph. LangGraph offers a more flexible and full-featured framework for building agents, including support for tool-calling, persistence of state, and human-in-the-loop workflows. For details, refer to the `LangGraph documentation <https://langchain-ai.github.io/langgraph/>`_ as well as guides for `Migrating from AgentExecutor <https://python.langchain.com/docs/how_to/migrate_agent/>`_ and LangGraph's `Pre-built ReAct agent <https://langchain-ai.github.io/langgraph/how-tos/create-react-agent/>`_.\n",
            "  agent = initialize_agent(\n",
            "C:\\Users\\Nilab\\AppData\\Local\\Temp\\ipykernel_20732\\3446431988.py:25: LangChainDeprecationWarning: The method `Chain.run` was deprecated in langchain 0.1.0 and will be removed in 1.0. Use :meth:`~invoke` instead.\n",
            "  result = agent.run(query)\n"
          ]
        },
        {
          "name": "stdout",
          "output_type": "stream",
          "text": [
            "\n",
            "\n",
            "\u001b[1m> Entering new AgentExecutor chain...\u001b[0m\n",
            "\u001b[32;1m\u001b[1;3mI need to calculate the expression (4.5*2.1)^2.2.\n",
            "Action: Calculator\n",
            "Action Input: (4.5*2.1)**2.2\u001b[0m\n",
            "Observation: \u001b[36;1m\u001b[1;3mAnswer: 139.94261298333066\u001b[0m\n",
            "Thought:\u001b[32;1m\u001b[1;3mI now know the final answer.\n",
            "Final Answer: The result of (4.5*2.1)^2.2 is approximately 139.94.\u001b[0m\n",
            "\n",
            "\u001b[1m> Finished chain.\u001b[0m\n",
            "The result of (4.5*2.1)^2.2 is approximately 139.94.\n"
          ]
        }
      ],
      "source": [
        "from langchain import OpenAI\n",
        "from langchain.chains import LLMMathChain\n",
        "from langchain.agents import Tool, initialize_agent\n",
        "\n",
        "\n",
        "math_chain = LLMMathChain.from_llm(llm=llm)\n",
        "\n",
        "# Wrap the math chain as a tool\n",
        "calculator_tool = Tool.from_function(\n",
        "    name=\"Calculator\",\n",
        "    func=math_chain.run,\n",
        "    description=\"Useful for when you need to answer questions about math. Only math expressions should be passed.\"\n",
        ")\n",
        "\n",
        "# Initialize an agent with the calculator tool (using a zero-shot ReAct agent)\n",
        "agent = initialize_agent(\n",
        "    tools=[calculator_tool],\n",
        "    llm=llm,  # Still use Groq for the agent\n",
        "    agent=\"zero-shot-react-description\",\n",
        "    verbose=True\n",
        ")\n",
        "\n",
        "# Example query that requires calculation\n",
        "query = \"What is (4.5*2.1)^2.2?\"\n",
        "result = agent.run(query)\n",
        "print(result)"
      ]
    },
    {
      "cell_type": "code",
      "execution_count": 22,
      "metadata": {
        "colab": {
          "base_uri": "https://localhost:8080/"
        },
        "id": "-EHAzO04TMuz",
        "outputId": "38d43985-dca5-4cba-cca6-3722f191b102"
      },
      "outputs": [
        {
          "name": "stdout",
          "output_type": "stream",
          "text": [
            "\n",
            "\n",
            "\u001b[1m> Entering new AgentExecutor chain...\u001b[0m\n",
            "\u001b[32;1m\u001b[1;3mI need to find out the current exchange rate from INR (Indian Rupee) to USD (US Dollar).\n",
            "Action: currency-conversion-tool\n",
            "Action Input: \"1 inr to usd\"\u001b[0m\n",
            "Observation: \u001b[33;1m\u001b[1;3mfrom_currency='INR' to_currency='USD' conversion_rate=0.0114393\u001b[0m\n",
            "Thought:\u001b[32;1m\u001b[1;3mI now know the final answer.\n",
            "Final Answer: The current exchange rate is 0.0114393 USD for 1 INR.\u001b[0m\n",
            "\n",
            "\u001b[1m> Finished chain.\u001b[0m\n",
            "Currency Conversion Result: The current exchange rate is 0.0114393 USD for 1 INR.\n"
          ]
        }
      ],
      "source": [
        "from langchain import OpenAI\n",
        "from langchain.chains import LLMMathChain\n",
        "from langchain.agents import Tool, initialize_agent\n",
        "from langchain_community.tools import DuckDuckGoSearchRun\n",
        "from langchain_core.pydantic_v1 import BaseModel, Field\n",
        "from langchain_core.tools import tool  # for the @tool decorator\n",
        "\n",
        "# -------------------------------\n",
        "# Calculator Tool Setup\n",
        "\n",
        "\n",
        "# Create a math chain that acts as a calculator\n",
        "math_chain = LLMMathChain.from_llm(llm=llm)\n",
        "\n",
        "# Wrap the math chain as a tool; the description guides the agent to use this tool for math expressions.\n",
        "calculator_tool = Tool.from_function(\n",
        "    name=\"Calculator\",\n",
        "    func=math_chain.run,\n",
        "    description=\"Useful for when you need to answer questions about math. Only math expressions should be passed.\"\n",
        ")\n",
        "\n",
        "# -------------------------------\n",
        "# Currency Conversion Tool Setup\n",
        "# -------------------------------\n",
        "# Define the structured output model for currency conversion\n",
        "class CurrencyConversion(BaseModel):\n",
        "    from_currency: str = Field(..., description=\"The currency to convert from (e.g., USD)\")\n",
        "    to_currency: str = Field(..., description=\"The target currency to convert to (e.g., BDT)\")\n",
        "    conversion_rate: float = Field(\n",
        "        ...,\n",
        "        description=\"The conversion rate from 1 unit of the 'from_currency' to the 'to_currency.\"\n",
        "    )\n",
        "\n",
        "# Wrap the conversion logic as a tool using the @tool decorator.\n",
        "@tool(\"currency-conversion-tool\")\n",
        "def currency_conversion_tool(query: str) -> CurrencyConversion:\n",
        "    \"\"\"\n",
        "    This tool takes a query (e.g., \"Bdt to RM exchange rate\") and returns a structured\n",
        "    CurrencyConversion object containing the from_currency, to_currency, and the conversion rate.\n",
        "    \"\"\"\n",
        "    # Perform a DuckDuckGo search to retrieve exchange rate information.\n",
        "    search = DuckDuckGoSearchRun()\n",
        "    search_result = search.invoke(query)\n",
        "\n",
        "    # Initialize the ChatGroq model with structured output for CurrencyConversion.\n",
        "    structured_llm = llm.with_structured_output(CurrencyConversion)\n",
        "\n",
        "    # Process the search result to obtain a CurrencyConversion output.\n",
        "    conversion = structured_llm.invoke(search_result)\n",
        "    return conversion\n",
        "\n",
        "# -------------------------------\n",
        "# Agent Initialization with Both Tools\n",
        "# -------------------------------\n",
        "# Add both the Calculator and Currency Conversion tools to the agent.\n",
        "tools = [calculator_tool, currency_conversion_tool]\n",
        "\n",
        "# Initialize a zero-shot ReAct agent with the two tools.\n",
        "agent = initialize_agent(\n",
        "    tools=tools,\n",
        "    llm=llm,\n",
        "    agent=\"zero-shot-react-description\",\n",
        "    verbose=True\n",
        ")\n",
        "\n",
        "\n",
        "# Query that triggers the Currency Conversion tool.\n",
        "conversion_query = \"1 inr to usd exchange rate\"\n",
        "conversion_result = agent.run(conversion_query)\n",
        "print(\"Currency Conversion Result:\", conversion_result)\n"
      ]
    },
    {
      "cell_type": "code",
      "execution_count": 15,
      "metadata": {
        "colab": {
          "base_uri": "https://localhost:8080/"
        },
        "id": "znKFgBzTaXpl",
        "outputId": "2e5f780f-5439-4ab7-ee16-c4a68dc7317d"
      },
      "outputs": [
        {
          "name": "stdout",
          "output_type": "stream",
          "text": [
            "Based on your instruction and the provided example rate, while excluding any unneeded information and focusing just on accurately formatting the output as pure JSON, here's how we would represent today's INR to USD exchange rate using the given template:\n",
            "\n",
            "```json\n",
            "{\n",
            "  \"from_currency\": \"INR\",\n",
            "  \"to_currency\": \"USD\",\n",
            "  \"conversion_rate\": 0.012\n",
            "}\n",
            "```\n",
            "\n",
            "Please note that for actual use, always verify with a reliable and current source since exchange rates fluctuate regularly.\n"
          ]
        }
      ],
      "source": [
        "# Improved prompt example:\n",
        "prompt = (\n",
        "    \"You are given exchange rate information. \"\n",
        "    \"Please extract the conversion details and output them strictly in JSON format following the template below:\\n\\n\"\n",
        "    \"{\\n\"\n",
        "    \"  \\\"from_currency\\\": \\\"<string - the source currency, e.g., 'SAR'>\\\",\\n\"\n",
        "    \"  \\\"to_currency\\\": \\\"<string - the target currency, e.g., 'USD'>\\\",\\n\"\n",
        "    \"  \\\"conversion_rate\\\": <number - the conversion rate from 'from_currency' to 'to_currency'>\\n\"\n",
        "    \"}\\n\\n\"\n",
        "    \"Make sure the JSON is valid and does not include any additional text.\"\n",
        ")\n",
        "\n",
        "# Then, call your language model with the improved prompt:\n",
        "response_content = llm.invoke(prompt + conversion_result).content\n",
        "print(response_content)\n"
      ]
    },
    {
      "cell_type": "code",
      "execution_count": 25,
      "metadata": {
        "colab": {
          "base_uri": "https://localhost:8080/"
        },
        "id": "A3T4D0urY4Ch",
        "outputId": "56962dca-fc6c-4762-8e63-11d339aeed52"
      },
      "outputs": [
        {
          "name": "stdout",
          "output_type": "stream",
          "text": [
            "\n",
            "\n",
            "\u001b[1m> Entering new AgentExecutor chain...\u001b[0m\n",
            "\u001b[32;1m\u001b[1;3mI need to find out the SAR to USD exchange rate.\n",
            "Action: currency-conversion-tool\n",
            "Action Input: \"SAR to USD exchange rate\"\u001b[0m\n",
            "Observation: \u001b[33;1m\u001b[1;3mfrom_currency='SAR' to_currency='USD' conversion_rate=0.2666\u001b[0m\n",
            "Thought:\u001b[32;1m\u001b[1;3mI now know the final answer.\n",
            "Final Answer: The current exchange rate is 1 SAR = 0.2666 USD.\u001b[0m\n",
            "\n",
            "\u001b[1m> Finished chain.\u001b[0m\n",
            "\n",
            "\n",
            "\u001b[1m> Entering new AgentExecutor chain...\u001b[0m\n",
            "\u001b[32;1m\u001b[1;3mI need to find out the current INR to USD exchange rate.\n",
            "Action: currency-conversion-tool\n",
            "Action Input: \"INR to USD exchange rate\"\u001b[0m\n",
            "Observation: \u001b[33;1m\u001b[1;3mNone\u001b[0m\n",
            "Thought:\u001b[32;1m\u001b[1;3mIt seems there was an issue with retrieving the observation. I will attempt to get the correct conversion rate again.\n",
            "Action: currency-conversion-tool\n",
            "Action Input: \"INR to USD exchange rate\"\u001b[0m\n",
            "Observation: \u001b[33;1m\u001b[1;3mfrom_currency='USD' to_currency='INR' conversion_rate=87.21\u001b[0m\n",
            "Thought:\u001b[32;1m\u001b[1;3mIt appears that there was a misunderstanding in the observation, as it should have provided an INR to USD conversion rate but instead gave a USD to INR conversion rate with a rate of 87.21. To get the correct INR to USD exchange rate, I will adjust my approach.\n",
            "Action: currency-conversion-tool\n",
            "Action Input: \"INR to USD exchange rate\"\u001b[0m\n",
            "Observation: \u001b[33;1m\u001b[1;3mfrom_currency='INR' to_currency='USD' conversion_rate=0.011466\u001b[0m\n",
            "Thought:\u001b[32;1m\u001b[1;3mI now have the correct INR to USD exchange rate, which is 0.011466.\n",
            "Final Answer: The current exchange rate from Indian Rupees (INR) to United States Dollars (USD) is approximately 0.011466 USD per INR.\u001b[0m\n",
            "\n",
            "\u001b[1m> Finished chain.\u001b[0m\n",
            "{\n",
            "    \"results\": [\n",
            "        {\n",
            "            \"product_name\": \"Sony, 55 Inch, 4K HDR, Android TV\",\n",
            "            \"price\": 666.2334,\n",
            "            \"currency\": \"USD\",\n",
            "            \"source\": \"https://www.extra.com/en-sa/electronics/television/led/sony-55-inch-4k-hdr-android-tv/p/100312894\",\n",
            "            \"vat_status\": \"Incl. VAT\",\n",
            "            \"payment_type\": null,\n",
            "            \"features_of_product\": \"3 HDMI inputs, Bluetooth, 4K Processor X1, 4K X-Reality PRO, Motionflow XR, Clear Phase, Chromecast built-in, X Protection PRO, Android TV, 2 USB inputs, 16GB internal memory, 10W x 2 speakers, 50Hz, 4K HDR, LED display, 55 inches, 2022 model\",\n",
            "            \"vendor_name\": null,\n",
            "            \"customer_rating\": \"4.5\"\n",
            "        },\n",
            "        {\n",
            "            \"product_name\": \"Sony Bravia 55 inch Google K-55S30 4k LED TV\",\n",
            "            \"price\": 852.8534,\n",
            "            \"currency\": \"USD\",\n",
            "            \"source\": \"https://www.almanea.sa/en/product/sony-bravia-55-inch-google-k-55s30-4k-led-tv-p-139904699455048?srsltid=AfmBOoopG0PLoKZaN4hs7CTlWE7L4_V44N6mO8STn8EGHCyQ4uQoh2qK\",\n",
            "            \"vat_status\": \"after vat\",\n",
            "            \"payment_type\": null,\n",
            "            \"features_of_product\": \"4K - LED, 55 inches, UHD 4K, 2 USB Socket, 4 HDMI Sockets, Dimension Net (WxDxH): 123.3 * 7.2 * 71.3, Resolution (MP): 3840*2160, TV ANDROID: Yes, Warranty: 2 years, Country of Manufacture: Malaysia\",\n",
            "            \"vendor_name\": null,\n",
            "            \"customer_rating\": null\n",
            "        },\n",
            "        {\n",
            "            \"product_name\": \"SONY Bravia 139 cm (55 inch) Ultra HD (4K) LED Smart TV (KD-55X85J)\",\n",
            "            \"price\": 917.16534,\n",
            "            \"currency\": \"USD\",\n",
            "            \"source\": \"https://www.flipkart.com/sony-bravia-139-cm-55-inch-ultra-hd-4k-led-smart-tv/p/itmb1de6db72ae33\",\n",
            "            \"vat_status\": \"after vat\",\n",
            "            \"payment_type\": null,\n",
            "            \"features_of_product\": \"Supported Apps: Not specified, Resolution: Ultra HD (4K) 3840 x 2160 Pixels, Sound Output: 20 W, Refresh Rate: 60 Hz, HDMI: 4, USB: 2, Built In Wi-Fi: Yes, Launch Year: 2021, Number of Speakers: 2, Power Requirement: 220-240 V, Power Consumption: 0.5 W (Standby)\",\n",
            "            \"vendor_name\": \"SameDayDeliveryBLR\",\n",
            "            \"customer_rating\": null\n",
            "        }\n",
            "    ]\n",
            "}\n"
          ]
        }
      ],
      "source": [
        "import json\n",
        "\n",
        "# Sample product data\n",
        "products = {\n",
        "    \"results\": [\n",
        "        {\n",
        "            \"product_name\": \"Sony, 55 Inch, 4K HDR, Android TV\",\n",
        "            \"price\": 2499,\n",
        "            \"currency\": \"SAR\",\n",
        "            \"source\": \"https://www.extra.com/en-sa/electronics/television/led/sony-55-inch-4k-hdr-android-tv/p/100312894\",\n",
        "            \"vat_status\": \"Incl. VAT\",\n",
        "            \"payment_type\": None,\n",
        "            \"features_of_product\": \"3 HDMI inputs, Bluetooth, 4K Processor X1, 4K X-Reality PRO, Motionflow XR, Clear Phase, Chromecast built-in, X Protection PRO, Android TV, 2 USB inputs, 16GB internal memory, 10W x 2 speakers, 50Hz, 4K HDR, LED display, 55 inches, 2022 model\",\n",
        "            \"vendor_name\": None,\n",
        "            \"customer_rating\": \"4.5\"\n",
        "        },\n",
        "        {\n",
        "            \"product_name\": \"Sony Bravia 55 inch Google K-55S30 4k LED TV\",\n",
        "            \"price\": 3199,\n",
        "            \"currency\": \"SAR\",\n",
        "            \"source\": \"https://www.almanea.sa/en/product/sony-bravia-55-inch-google-k-55s30-4k-led-tv-p-139904699455048?srsltid=AfmBOoopG0PLoKZaN4hs7CTlWE7L4_V44N6mO8STn8EGHCyQ4uQoh2qK\",\n",
        "            \"vat_status\": \"after vat\",\n",
        "            \"payment_type\": None,\n",
        "            \"features_of_product\": \"4K - LED, 55 inches, UHD 4K, 2 USB Socket, 4 HDMI Sockets, Dimension Net (WxDxH): 123.3 * 7.2 * 71.3, Resolution (MP): 3840*2160, TV ANDROID: Yes, Warranty: 2 years, Country of Manufacture: Malaysia\",\n",
        "            \"vendor_name\": None,\n",
        "            \"customer_rating\": None\n",
        "        },\n",
        "        {\n",
        "            \"product_name\": \"SONY Bravia 139 cm (55 inch) Ultra HD (4K) LED Smart TV (KD-55X85J)\",\n",
        "            \"price\": 79990,\n",
        "            \"currency\": \"INR\",\n",
        "            \"source\": \"https://www.flipkart.com/sony-bravia-139-cm-55-inch-ultra-hd-4k-led-smart-tv/p/itmb1de6db72ae33\",\n",
        "            \"vat_status\": \"after vat\",\n",
        "            \"payment_type\": None,\n",
        "            \"features_of_product\": \"Supported Apps: Not specified, Resolution: Ultra HD (4K) 3840 x 2160 Pixels, Sound Output: 20 W, Refresh Rate: 60 Hz, HDMI: 4, USB: 2, Built In Wi-Fi: Yes, Launch Year: 2021, Number of Speakers: 2, Power Requirement: 220-240 V, Power Consumption: 0.5 W (Standby)\",\n",
        "            \"vendor_name\": \"SameDayDeliveryBLR\",\n",
        "            \"customer_rating\": None\n",
        "        }\n",
        "    ]\n",
        "}\n",
        "\n",
        "# Cache to store conversion rates so that we only query once per currency.\n",
        "conversion_cache = {}\n",
        "\n",
        "# Loop through each product in the dataset.\n",
        "for product in products[\"results\"]:\n",
        "    # Only process products whose currency is not USD.\n",
        "    if product[\"currency\"].upper() != \"USD\":\n",
        "        from_currency = product[\"currency\"]\n",
        "        # Check the cache first\n",
        "        if from_currency not in conversion_cache:\n",
        "            # Prepare a query for the agent, e.g., \"SAR to USD exchange rate\"\n",
        "            conversion_query = f\"Directly Search it first as it is.{from_currency} to USD exchange rate\"\n",
        "            # Call the agent to get the conversion rate.\n",
        "            # It is expected that the agent uses your currency conversion tool and returns\n",
        "            # a structured result containing a \"conversion_rate\" field.\n",
        "            conversion_result = agent.run(conversion_query)\n",
        "            conversion_result=llm.invoke(prompt + conversion_result).content\n",
        "            # If the result is a JSON string, parse it.\n",
        "            if isinstance(conversion_result, str):\n",
        "                try:\n",
        "                    conversion_data = json.loads(conversion_result)\n",
        "                except json.JSONDecodeError:\n",
        "                    raise ValueError(\"Failed to decode conversion result as JSON.\")\n",
        "            else:\n",
        "                conversion_data = conversion_result\n",
        "\n",
        "            # Extract the conversion rate from the structured output.\n",
        "            conversion_rate = conversion_data.get(\"conversion_rate\")\n",
        "            if conversion_rate is None:\n",
        "                raise ValueError(f\"No conversion rate found in the response for {from_currency} to USD.\")\n",
        "            # Cache the conversion rate.\n",
        "            conversion_cache[from_currency] = conversion_rate\n",
        "        else:\n",
        "            conversion_rate = conversion_cache[from_currency]\n",
        "\n",
        "        # Update the product price by multiplying with the conversion rate.\n",
        "        original_price = product[\"price\"]\n",
        "        product[\"price\"] = original_price * conversion_rate\n",
        "        # Update the currency field to USD.\n",
        "        product[\"currency\"] = \"USD\"\n",
        "\n",
        "# Print the updated product list.\n",
        "print(json.dumps(products, indent=4))\n"
      ]
    },
    {
      "cell_type": "code",
      "execution_count": null,
      "metadata": {
        "id": "GIm6RDvSl-RW"
      },
      "outputs": [],
      "source": []
    }
  ],
  "metadata": {
    "colab": {
      "provenance": []
    },
    "kernelspec": {
      "display_name": "test_esap_marged",
      "language": "python",
      "name": "python3"
    },
    "language_info": {
      "codemirror_mode": {
        "name": "ipython",
        "version": 3
      },
      "file_extension": ".py",
      "mimetype": "text/x-python",
      "name": "python",
      "nbconvert_exporter": "python",
      "pygments_lexer": "ipython3",
      "version": "3.11.11"
    }
  },
  "nbformat": 4,
  "nbformat_minor": 0
}
